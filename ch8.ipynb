{
 "metadata": {
  "language_info": {
   "codemirror_mode": {
    "name": "ipython",
    "version": 3
   },
   "file_extension": ".py",
   "mimetype": "text/x-python",
   "name": "python",
   "nbconvert_exporter": "python",
   "pygments_lexer": "ipython3",
   "version": "3.7.5-final"
  },
  "orig_nbformat": 2,
  "kernelspec": {
   "name": "python3",
   "display_name": "Python 3",
   "language": "python"
  }
 },
 "nbformat": 4,
 "nbformat_minor": 2,
 "cells": [
  {
   "cell_type": "code",
   "execution_count": 1,
   "metadata": {},
   "outputs": [],
   "source": [
    "import pandas as pd"
   ]
  },
  {
   "cell_type": "code",
   "execution_count": 2,
   "metadata": {},
   "outputs": [
    {
     "output_type": "execute_result",
     "data": {
      "text/plain": [
       "         Amount\n",
       "count  3.000000\n",
       "mean   5.243333\n",
       "std    0.192180\n",
       "min    5.070000\n",
       "25%    5.140000\n",
       "50%    5.210000\n",
       "75%    5.330000\n",
       "max    5.450000"
      ],
      "text/html": "<div>\n<style scoped>\n    .dataframe tbody tr th:only-of-type {\n        vertical-align: middle;\n    }\n\n    .dataframe tbody tr th {\n        vertical-align: top;\n    }\n\n    .dataframe thead th {\n        text-align: right;\n    }\n</style>\n<table border=\"1\" class=\"dataframe\">\n  <thead>\n    <tr style=\"text-align: right;\">\n      <th></th>\n      <th>Amount</th>\n    </tr>\n  </thead>\n  <tbody>\n    <tr>\n      <th>count</th>\n      <td>3.000000</td>\n    </tr>\n    <tr>\n      <th>mean</th>\n      <td>5.243333</td>\n    </tr>\n    <tr>\n      <th>std</th>\n      <td>0.192180</td>\n    </tr>\n    <tr>\n      <th>min</th>\n      <td>5.070000</td>\n    </tr>\n    <tr>\n      <th>25%</th>\n      <td>5.140000</td>\n    </tr>\n    <tr>\n      <th>50%</th>\n      <td>5.210000</td>\n    </tr>\n    <tr>\n      <th>75%</th>\n      <td>5.330000</td>\n    </tr>\n    <tr>\n      <th>max</th>\n      <td>5.450000</td>\n    </tr>\n  </tbody>\n</table>\n</div>"
     },
     "metadata": {},
     "execution_count": 2
    }
   ],
   "source": [
    "df = pd.read_excel(\"./data/DISTILL.XLS\")\n",
    "df.describe()"
   ]
  },
  {
   "cell_type": "code",
   "execution_count": 3,
   "metadata": {},
   "outputs": [
    {
     "output_type": "execute_result",
     "data": {
      "text/plain": [
       "                  0\n",
       "count     67.000000\n",
       "mean   11066.432836\n",
       "std     1594.959905\n",
       "min     8714.000000\n",
       "25%     9925.500000\n",
       "50%    10656.000000\n",
       "75%    11784.000000\n",
       "max    16243.000000"
      ],
      "text/html": "<div>\n<style scoped>\n    .dataframe tbody tr th:only-of-type {\n        vertical-align: middle;\n    }\n\n    .dataframe tbody tr th {\n        vertical-align: top;\n    }\n\n    .dataframe thead th {\n        text-align: right;\n    }\n</style>\n<table border=\"1\" class=\"dataframe\">\n  <thead>\n    <tr style=\"text-align: right;\">\n      <th></th>\n      <th>0</th>\n    </tr>\n  </thead>\n  <tbody>\n    <tr>\n      <th>count</th>\n      <td>67.000000</td>\n    </tr>\n    <tr>\n      <th>mean</th>\n      <td>11066.432836</td>\n    </tr>\n    <tr>\n      <th>std</th>\n      <td>1594.959905</td>\n    </tr>\n    <tr>\n      <th>min</th>\n      <td>8714.000000</td>\n    </tr>\n    <tr>\n      <th>25%</th>\n      <td>9925.500000</td>\n    </tr>\n    <tr>\n      <th>50%</th>\n      <td>10656.000000</td>\n    </tr>\n    <tr>\n      <th>75%</th>\n      <td>11784.000000</td>\n    </tr>\n    <tr>\n      <th>max</th>\n      <td>16243.000000</td>\n    </tr>\n  </tbody>\n</table>\n</div>"
     },
     "metadata": {},
     "execution_count": 3
    }
   ],
   "source": [
    "df = pd.DataFrame([\n",
    "    14622, 13196, 11948, 11289, 11964, 10526, 10387, 10592, 10460, 10086,\n",
    "    14628, 13396, 11726, 11252, 12449, 11030, 10787, 10603, 10144, 11674,\n",
    "    11510, 10946, 10508, 10604, 10270, 10529, 10360, 14796, 12913, 12270,\n",
    "    11842, 10656, 11360, 11136, 10814, 13523, 11289, 11183, 10951, 9722,\n",
    "    10481, 9812, 9669, 9643, 9115, 9115, 11588, 10888, 9738, 9295,\n",
    "    9421, 9105, 10233, 10186, 9918, 9209, 9532, 9933, 9152, 9295,\n",
    "    16243, 14628, 12766, 8714, 9469, 11948, 12414\n",
    "])\n",
    "df.describe()"
   ]
  },
  {
   "cell_type": "code",
   "execution_count": 4,
   "metadata": {},
   "outputs": [
    {
     "output_type": "execute_result",
     "data": {
      "text/plain": [
       "               0\n",
       "count  15.000000\n",
       "mean    0.085333\n",
       "std     1.603095\n",
       "min    -4.500000\n",
       "25%    -0.075000\n",
       "50%     0.050000\n",
       "75%     0.500000\n",
       "max     3.000000"
      ],
      "text/html": "<div>\n<style scoped>\n    .dataframe tbody tr th:only-of-type {\n        vertical-align: middle;\n    }\n\n    .dataframe tbody tr th {\n        vertical-align: top;\n    }\n\n    .dataframe thead th {\n        text-align: right;\n    }\n</style>\n<table border=\"1\" class=\"dataframe\">\n  <thead>\n    <tr style=\"text-align: right;\">\n      <th></th>\n      <th>0</th>\n    </tr>\n  </thead>\n  <tbody>\n    <tr>\n      <th>count</th>\n      <td>15.000000</td>\n    </tr>\n    <tr>\n      <th>mean</th>\n      <td>0.085333</td>\n    </tr>\n    <tr>\n      <th>std</th>\n      <td>1.603095</td>\n    </tr>\n    <tr>\n      <th>min</th>\n      <td>-4.500000</td>\n    </tr>\n    <tr>\n      <th>25%</th>\n      <td>-0.075000</td>\n    </tr>\n    <tr>\n      <th>50%</th>\n      <td>0.050000</td>\n    </tr>\n    <tr>\n      <th>75%</th>\n      <td>0.500000</td>\n    </tr>\n    <tr>\n      <th>max</th>\n      <td>3.000000</td>\n    </tr>\n  </tbody>\n</table>\n</div>"
     },
     "metadata": {},
     "execution_count": 4
    }
   ],
   "source": [
    "df = pd.DataFrame([-4.5, -1., -.5, -.15, 0, .01, .02, .05, .15, .2, .5, .5, 1.0, 2.0, 3.0])\n",
    "df.describe()"
   ]
  },
  {
   "cell_type": "code",
   "execution_count": null,
   "metadata": {},
   "outputs": [],
   "source": []
  }
 ]
}