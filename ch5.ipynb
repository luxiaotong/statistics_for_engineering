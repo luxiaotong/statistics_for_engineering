{
 "metadata": {
  "language_info": {
   "codemirror_mode": {
    "name": "ipython",
    "version": 3
   },
   "file_extension": ".py",
   "mimetype": "text/x-python",
   "name": "python",
   "nbconvert_exporter": "python",
   "pygments_lexer": "ipython3",
   "version": "3.7.5-final"
  },
  "orig_nbformat": 2,
  "kernelspec": {
   "name": "python3",
   "display_name": "Python 3",
   "language": "python"
  }
 },
 "nbformat": 4,
 "nbformat_minor": 2,
 "cells": [
  {
   "cell_type": "code",
   "execution_count": 1,
   "metadata": {},
   "outputs": [],
   "source": [
    "import pandas as pd\n",
    "import numpy as np\n",
    "import matplotlib.pyplot as plt\n",
    "\n",
    "plt.rcParams['font.sans-serif'] = ['Arial Unicode MS']\n",
    "plt.rcParams['axes.unicode_minus'] = False # 解决保存图像是负号'-'显示为方块的问题"
   ]
  },
  {
   "cell_type": "code",
   "execution_count": 11,
   "metadata": {},
   "outputs": [
    {
     "output_type": "stream",
     "name": "stdout",
     "text": [
      "WARNING *** OLE2 inconsistency: SSCS size is 0 but SSAT size is non-zero\n"
     ]
    },
    {
     "output_type": "execute_result",
     "data": {
      "text/plain": [
       "            PermA       PermB       PermC\n",
       "count  100.000000  100.000000  100.000000\n",
       "mean    73.623000  128.537000   83.070000\n",
       "std     14.475021   21.971642   20.048474\n",
       "min     55.200000   50.400000   52.200000\n",
       "25%     62.200000  108.950000   67.975000\n",
       "50%     70.450000  139.300000   78.650000\n",
       "75%     81.275000  146.875000   95.250000\n",
       "max    122.400000  150.000000  129.000000"
      ],
      "text/html": "<div>\n<style scoped>\n    .dataframe tbody tr th:only-of-type {\n        vertical-align: middle;\n    }\n\n    .dataframe tbody tr th {\n        vertical-align: top;\n    }\n\n    .dataframe thead th {\n        text-align: right;\n    }\n</style>\n<table border=\"1\" class=\"dataframe\">\n  <thead>\n    <tr style=\"text-align: right;\">\n      <th></th>\n      <th>PermA</th>\n      <th>PermB</th>\n      <th>PermC</th>\n    </tr>\n  </thead>\n  <tbody>\n    <tr>\n      <th>count</th>\n      <td>100.000000</td>\n      <td>100.000000</td>\n      <td>100.000000</td>\n    </tr>\n    <tr>\n      <th>mean</th>\n      <td>73.623000</td>\n      <td>128.537000</td>\n      <td>83.070000</td>\n    </tr>\n    <tr>\n      <th>std</th>\n      <td>14.475021</td>\n      <td>21.971642</td>\n      <td>20.048474</td>\n    </tr>\n    <tr>\n      <th>min</th>\n      <td>55.200000</td>\n      <td>50.400000</td>\n      <td>52.200000</td>\n    </tr>\n    <tr>\n      <th>25%</th>\n      <td>62.200000</td>\n      <td>108.950000</td>\n      <td>67.975000</td>\n    </tr>\n    <tr>\n      <th>50%</th>\n      <td>70.450000</td>\n      <td>139.300000</td>\n      <td>78.650000</td>\n    </tr>\n    <tr>\n      <th>75%</th>\n      <td>81.275000</td>\n      <td>146.875000</td>\n      <td>95.250000</td>\n    </tr>\n    <tr>\n      <th>max</th>\n      <td>122.400000</td>\n      <td>150.000000</td>\n      <td>129.000000</td>\n    </tr>\n  </tbody>\n</table>\n</div>"
     },
     "metadata": {},
     "execution_count": 11
    }
   ],
   "source": [
    "# 5.47\n",
    "df = pd.read_excel(\"./data/ASPENHTS.XLS\")\n",
    "df.describe()\n",
    "\n",
    "# 5.49\n",
    "# df = pd.read_excel(\"./data/SHIPSANIT.XLS\")\n",
    "# df.describe()\n",
    "\n",
    "# 5.51\n",
    "df = pd.read_excel(\"./data/SANDSTONE.XLS\")\n",
    "df.describe()"
   ]
  },
  {
   "cell_type": "code",
   "execution_count": null,
   "metadata": {},
   "outputs": [],
   "source": []
  }
 ]
}