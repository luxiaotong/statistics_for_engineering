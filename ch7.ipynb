{
 "metadata": {
  "language_info": {
   "codemirror_mode": {
    "name": "ipython",
    "version": 3
   },
   "file_extension": ".py",
   "mimetype": "text/x-python",
   "name": "python",
   "nbconvert_exporter": "python",
   "pygments_lexer": "ipython3",
   "version": "3.7.5-final"
  },
  "orig_nbformat": 2,
  "kernelspec": {
   "name": "python3",
   "display_name": "Python 3",
   "language": "python"
  }
 },
 "nbformat": 4,
 "nbformat_minor": 2,
 "cells": [
  {
   "cell_type": "code",
   "execution_count": 1,
   "metadata": {},
   "outputs": [],
   "source": [
    "import pandas as pd"
   ]
  },
  {
   "cell_type": "code",
   "execution_count": 8,
   "metadata": {},
   "outputs": [
    {
     "output_type": "execute_result",
     "data": {
      "text/plain": [
       "              0\n",
       "count  9.000000\n",
       "mean   0.009027\n",
       "std    0.004854\n",
       "min    0.002358\n",
       "25%    0.006738\n",
       "50%    0.007828\n",
       "75%    0.011109\n",
       "max    0.016573"
      ],
      "text/html": "<div>\n<style scoped>\n    .dataframe tbody tr th:only-of-type {\n        vertical-align: middle;\n    }\n\n    .dataframe tbody tr th {\n        vertical-align: top;\n    }\n\n    .dataframe thead th {\n        text-align: right;\n    }\n</style>\n<table border=\"1\" class=\"dataframe\">\n  <thead>\n    <tr style=\"text-align: right;\">\n      <th></th>\n      <th>0</th>\n    </tr>\n  </thead>\n  <tbody>\n    <tr>\n      <th>count</th>\n      <td>9.000000</td>\n    </tr>\n    <tr>\n      <th>mean</th>\n      <td>0.009027</td>\n    </tr>\n    <tr>\n      <th>std</th>\n      <td>0.004854</td>\n    </tr>\n    <tr>\n      <th>min</th>\n      <td>0.002358</td>\n    </tr>\n    <tr>\n      <th>25%</th>\n      <td>0.006738</td>\n    </tr>\n    <tr>\n      <th>50%</th>\n      <td>0.007828</td>\n    </tr>\n    <tr>\n      <th>75%</th>\n      <td>0.011109</td>\n    </tr>\n    <tr>\n      <th>max</th>\n      <td>0.016573</td>\n    </tr>\n  </tbody>\n</table>\n</div>"
     },
     "metadata": {},
     "execution_count": 8
    }
   ],
   "source": [
    "# 7.31\n",
    "df = pd.DataFrame([0.0040868, 0.0157644,0.0023579,0.0067379,0.0165727,0.0067379,0.0078284,0.0111090,0.0100518])\n",
    "df.describe()"
   ]
  },
  {
   "cell_type": "code",
   "execution_count": 9,
   "metadata": {},
   "outputs": [
    {
     "output_type": "execute_result",
     "data": {
      "text/plain": [
       "               0\n",
       "count  28.000000\n",
       "mean    3.214286\n",
       "std     1.370513\n",
       "min     1.000000\n",
       "25%     2.000000\n",
       "50%     3.000000\n",
       "75%     4.000000\n",
       "max     8.000000"
      ],
      "text/html": "<div>\n<style scoped>\n    .dataframe tbody tr th:only-of-type {\n        vertical-align: middle;\n    }\n\n    .dataframe tbody tr th {\n        vertical-align: top;\n    }\n\n    .dataframe thead th {\n        text-align: right;\n    }\n</style>\n<table border=\"1\" class=\"dataframe\">\n  <thead>\n    <tr style=\"text-align: right;\">\n      <th></th>\n      <th>0</th>\n    </tr>\n  </thead>\n  <tbody>\n    <tr>\n      <th>count</th>\n      <td>28.000000</td>\n    </tr>\n    <tr>\n      <th>mean</th>\n      <td>3.214286</td>\n    </tr>\n    <tr>\n      <th>std</th>\n      <td>1.370513</td>\n    </tr>\n    <tr>\n      <th>min</th>\n      <td>1.000000</td>\n    </tr>\n    <tr>\n      <th>25%</th>\n      <td>2.000000</td>\n    </tr>\n    <tr>\n      <th>50%</th>\n      <td>3.000000</td>\n    </tr>\n    <tr>\n      <th>75%</th>\n      <td>4.000000</td>\n    </tr>\n    <tr>\n      <th>max</th>\n      <td>8.000000</td>\n    </tr>\n  </tbody>\n</table>\n</div>"
     },
     "metadata": {},
     "execution_count": 9
    }
   ],
   "source": [
    "# 7.33\n",
    "df = pd.DataFrame([\n",
    "    4,3,4,4,3,4,3,3,3,2,6,8,4,2,\n",
    "    2,2,2,3,2,4,1,3,3,3,3,4,3,2,\n",
    "])\n",
    "df.describe()"
   ]
  },
  {
   "cell_type": "code",
   "execution_count": 10,
   "metadata": {},
   "outputs": [
    {
     "output_type": "execute_result",
     "data": {
      "text/plain": [
       "              0\n",
       "count  6.000000\n",
       "mean   1.073333\n",
       "std    0.231574\n",
       "min    0.830000\n",
       "25%    0.905000\n",
       "50%    1.035000\n",
       "75%    1.180000\n",
       "max    1.450000"
      ],
      "text/html": "<div>\n<style scoped>\n    .dataframe tbody tr th:only-of-type {\n        vertical-align: middle;\n    }\n\n    .dataframe tbody tr th {\n        vertical-align: top;\n    }\n\n    .dataframe thead th {\n        text-align: right;\n    }\n</style>\n<table border=\"1\" class=\"dataframe\">\n  <thead>\n    <tr style=\"text-align: right;\">\n      <th></th>\n      <th>0</th>\n    </tr>\n  </thead>\n  <tbody>\n    <tr>\n      <th>count</th>\n      <td>6.000000</td>\n    </tr>\n    <tr>\n      <th>mean</th>\n      <td>1.073333</td>\n    </tr>\n    <tr>\n      <th>std</th>\n      <td>0.231574</td>\n    </tr>\n    <tr>\n      <th>min</th>\n      <td>0.830000</td>\n    </tr>\n    <tr>\n      <th>25%</th>\n      <td>0.905000</td>\n    </tr>\n    <tr>\n      <th>50%</th>\n      <td>1.035000</td>\n    </tr>\n    <tr>\n      <th>75%</th>\n      <td>1.180000</td>\n    </tr>\n    <tr>\n      <th>max</th>\n      <td>1.450000</td>\n    </tr>\n  </tbody>\n</table>\n</div>"
     },
     "metadata": {},
     "execution_count": 10
    }
   ],
   "source": [
    "# 7.35\n",
    "df = pd.DataFrame([\n",
    "    .95,.83,1.2,.89,1.45,1.12\n",
    "])\n",
    "df.describe()"
   ]
  },
  {
   "cell_type": "code",
   "execution_count": 11,
   "metadata": {},
   "outputs": [
    {
     "output_type": "execute_result",
     "data": {
      "text/plain": [
       "               0\n",
       "count  25.000000\n",
       "mean    0.262080\n",
       "std     0.046691\n",
       "min     0.169000\n",
       "25%     0.228000\n",
       "50%     0.264000\n",
       "75%     0.298000\n",
       "max     0.342000"
      ],
      "text/html": "<div>\n<style scoped>\n    .dataframe tbody tr th:only-of-type {\n        vertical-align: middle;\n    }\n\n    .dataframe tbody tr th {\n        vertical-align: top;\n    }\n\n    .dataframe thead th {\n        text-align: right;\n    }\n</style>\n<table border=\"1\" class=\"dataframe\">\n  <thead>\n    <tr style=\"text-align: right;\">\n      <th></th>\n      <th>0</th>\n    </tr>\n  </thead>\n  <tbody>\n    <tr>\n      <th>count</th>\n      <td>25.000000</td>\n    </tr>\n    <tr>\n      <th>mean</th>\n      <td>0.262080</td>\n    </tr>\n    <tr>\n      <th>std</th>\n      <td>0.046691</td>\n    </tr>\n    <tr>\n      <th>min</th>\n      <td>0.169000</td>\n    </tr>\n    <tr>\n      <th>25%</th>\n      <td>0.228000</td>\n    </tr>\n    <tr>\n      <th>50%</th>\n      <td>0.264000</td>\n    </tr>\n    <tr>\n      <th>75%</th>\n      <td>0.298000</td>\n    </tr>\n    <tr>\n      <th>max</th>\n      <td>0.342000</td>\n    </tr>\n  </tbody>\n</table>\n</div>"
     },
     "metadata": {},
     "execution_count": 11
    }
   ],
   "source": [
    "# 7.37\n",
    "df = pd.DataFrame([\n",
    "    0.275, 0.261, 0.209, 0.266, 0.265, 0.312, 0.285, 0.317, 0.229,\n",
    "    0.251, 0.256, 0.339, 0.213, 0.178, 0.217, 0.307, 0.264, 0.220,\n",
    "    0.298, 0.169, 0.342, 0.270, 0.262, 0.228, 0.319\n",
    "])\n",
    "df.describe()"
   ]
  },
  {
   "cell_type": "code",
   "execution_count": null,
   "metadata": {},
   "outputs": [],
   "source": []
  }
 ]
}