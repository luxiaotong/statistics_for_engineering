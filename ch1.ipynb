{
 "metadata": {
  "language_info": {
   "codemirror_mode": {
    "name": "ipython",
    "version": 3
   },
   "file_extension": ".py",
   "mimetype": "text/x-python",
   "name": "python",
   "nbconvert_exporter": "python",
   "pygments_lexer": "ipython3",
   "version": "3.7.5-final"
  },
  "orig_nbformat": 2,
  "kernelspec": {
   "name": "python3",
   "display_name": "Python 3"
  }
 },
 "nbformat": 4,
 "nbformat_minor": 2,
 "cells": [
  {
   "cell_type": "code",
   "execution_count": 14,
   "metadata": {},
   "outputs": [],
   "source": [
    "import pandas as pd\n",
    "import numpy as np\n",
    "import matplotlib.pyplot as plt\n",
    "import random\n",
    "\n",
    "plt.rcParams['font.sans-serif'] = ['Arial Unicode MS']\n",
    "plt.rcParams['axes.unicode_minus'] = False # 解决保存图像是负号'-'显示为方块的问题"
   ]
  },
  {
   "cell_type": "code",
   "execution_count": 19,
   "metadata": {},
   "outputs": [
    {
     "output_type": "execute_result",
     "data": {
      "text/plain": [
       "       pH  SpConduct  DissOxy  RoadsPct  IndPct  UrbanPct  DevPct WellClass  \\\n",
       "217  7.69      400.8     1.48      2.52   17.61     23.11   24.88    Public   \n",
       "201  7.37      182.5     0.63      0.59    0.00      9.46    9.46    Public   \n",
       "130  6.49      287.5     4.77      3.57   14.14     44.61   50.17    Public   \n",
       "37   8.07      344.2     0.55      3.65    0.00     70.84   71.97   Private   \n",
       "148  5.34      625.9     4.45      1.30    7.44     18.61   18.61    Public   \n",
       "\n",
       "    Aquifier    Depth     SafeYld  Distance  MTBE-Detect  MTBE-Level  \\\n",
       "217  Bedrock      NaN         NaN    418.25  Below Limit        0.20   \n",
       "201  Bedrock  47.8536         NaN   4651.51  Below Limit        0.20   \n",
       "130  Bedrock  53.3400  132.475397    264.93       Detect        0.23   \n",
       "37   Bedrock  48.7680         NaN   1067.79       Detect        1.71   \n",
       "148  Bedrock  73.1520   98.410295     51.53       Detect        2.23   \n",
       "\n",
       "     HouseDen  PopDen  \n",
       "217    183.11   58.01  \n",
       "201      3.09    1.33  \n",
       "130     99.79   47.59  \n",
       "37     392.65  127.03  \n",
       "148    672.16  339.54  "
      ],
      "text/html": "<div>\n<style scoped>\n    .dataframe tbody tr th:only-of-type {\n        vertical-align: middle;\n    }\n\n    .dataframe tbody tr th {\n        vertical-align: top;\n    }\n\n    .dataframe thead th {\n        text-align: right;\n    }\n</style>\n<table border=\"1\" class=\"dataframe\">\n  <thead>\n    <tr style=\"text-align: right;\">\n      <th></th>\n      <th>pH</th>\n      <th>SpConduct</th>\n      <th>DissOxy</th>\n      <th>RoadsPct</th>\n      <th>IndPct</th>\n      <th>UrbanPct</th>\n      <th>DevPct</th>\n      <th>WellClass</th>\n      <th>Aquifier</th>\n      <th>Depth</th>\n      <th>SafeYld</th>\n      <th>Distance</th>\n      <th>MTBE-Detect</th>\n      <th>MTBE-Level</th>\n      <th>HouseDen</th>\n      <th>PopDen</th>\n    </tr>\n  </thead>\n  <tbody>\n    <tr>\n      <th>217</th>\n      <td>7.69</td>\n      <td>400.8</td>\n      <td>1.48</td>\n      <td>2.52</td>\n      <td>17.61</td>\n      <td>23.11</td>\n      <td>24.88</td>\n      <td>Public</td>\n      <td>Bedrock</td>\n      <td>NaN</td>\n      <td>NaN</td>\n      <td>418.25</td>\n      <td>Below Limit</td>\n      <td>0.20</td>\n      <td>183.11</td>\n      <td>58.01</td>\n    </tr>\n    <tr>\n      <th>201</th>\n      <td>7.37</td>\n      <td>182.5</td>\n      <td>0.63</td>\n      <td>0.59</td>\n      <td>0.00</td>\n      <td>9.46</td>\n      <td>9.46</td>\n      <td>Public</td>\n      <td>Bedrock</td>\n      <td>47.8536</td>\n      <td>NaN</td>\n      <td>4651.51</td>\n      <td>Below Limit</td>\n      <td>0.20</td>\n      <td>3.09</td>\n      <td>1.33</td>\n    </tr>\n    <tr>\n      <th>130</th>\n      <td>6.49</td>\n      <td>287.5</td>\n      <td>4.77</td>\n      <td>3.57</td>\n      <td>14.14</td>\n      <td>44.61</td>\n      <td>50.17</td>\n      <td>Public</td>\n      <td>Bedrock</td>\n      <td>53.3400</td>\n      <td>132.475397</td>\n      <td>264.93</td>\n      <td>Detect</td>\n      <td>0.23</td>\n      <td>99.79</td>\n      <td>47.59</td>\n    </tr>\n    <tr>\n      <th>37</th>\n      <td>8.07</td>\n      <td>344.2</td>\n      <td>0.55</td>\n      <td>3.65</td>\n      <td>0.00</td>\n      <td>70.84</td>\n      <td>71.97</td>\n      <td>Private</td>\n      <td>Bedrock</td>\n      <td>48.7680</td>\n      <td>NaN</td>\n      <td>1067.79</td>\n      <td>Detect</td>\n      <td>1.71</td>\n      <td>392.65</td>\n      <td>127.03</td>\n    </tr>\n    <tr>\n      <th>148</th>\n      <td>5.34</td>\n      <td>625.9</td>\n      <td>4.45</td>\n      <td>1.30</td>\n      <td>7.44</td>\n      <td>18.61</td>\n      <td>18.61</td>\n      <td>Public</td>\n      <td>Bedrock</td>\n      <td>73.1520</td>\n      <td>98.410295</td>\n      <td>51.53</td>\n      <td>Detect</td>\n      <td>2.23</td>\n      <td>672.16</td>\n      <td>339.54</td>\n    </tr>\n  </tbody>\n</table>\n</div>"
     },
     "metadata": {},
     "execution_count": 19
    }
   ],
   "source": [
    "# 1.15\n",
    "df = pd.read_excel('./data/MTBE.xls')\n",
    "s_list = []\n",
    "for i in range(0, 5):\n",
    "    s_list.append(random.randint(0, len(df)))\n",
    "df.loc[s_list]"
   ]
  },
  {
   "cell_type": "code",
   "execution_count": 22,
   "metadata": {},
   "outputs": [
    {
     "output_type": "execute_result",
     "data": {
      "text/plain": [
       "      YEAR  MONTH  DAY  HOUR  MINUTE  MAGNITUDE\n",
       "371   1994      1   19     2      18        2.3\n",
       "2316  1994      1   30    11       9        1.2\n",
       "1538  1994      1   24    16      25        2.5\n",
       "978   1994      1   21    18      14        1.7\n",
       "298   1994      1   18    15      56        2.5\n",
       "1786  1994      1   26     4       4        3.0\n",
       "1343  1994      1   23    13      35        1.6\n",
       "2247  1994      1   29     9      37        1.4\n",
       "473   1994      1   19    16       3        2.2\n",
       "2256  1994      1   29    11      37        3.4\n",
       "544   1994      1   19    22       6        2.9\n",
       "875   1994      1   21     8      24        1.9\n",
       "1258  1994      1   23     2       0        1.5\n",
       "1359  1994      1   23    15      58        2.1\n",
       "799   1994      1   21     0       1        1.5\n",
       "969   1994      1   21    17      35        1.8\n",
       "1444  1994      1   24     3      33        1.5\n",
       "1450  1994      1   24     4      15        4.5\n",
       "1297  1994      1   23     7       0        2.0\n",
       "1091  1994      1   22     6      49        1.9\n",
       "2540  1994      2    2    17      30        1.5\n",
       "1660  1994      1   25    10      32        2.4\n",
       "544   1994      1   19    22       6        2.9\n",
       "1045  1994      1   22     1       8        2.1\n",
       "2738  1994      2    4    10      37        1.5\n",
       "945   1994      1   21    14      23        1.6\n",
       "592   1994      1   20     2      45        2.6\n",
       "216   1994      1   18     3       5        2.5\n",
       "523   1994      1   19    20      16        1.8\n",
       "812   1994      1   21     1      31        2.0"
      ],
      "text/html": "<div>\n<style scoped>\n    .dataframe tbody tr th:only-of-type {\n        vertical-align: middle;\n    }\n\n    .dataframe tbody tr th {\n        vertical-align: top;\n    }\n\n    .dataframe thead th {\n        text-align: right;\n    }\n</style>\n<table border=\"1\" class=\"dataframe\">\n  <thead>\n    <tr style=\"text-align: right;\">\n      <th></th>\n      <th>YEAR</th>\n      <th>MONTH</th>\n      <th>DAY</th>\n      <th>HOUR</th>\n      <th>MINUTE</th>\n      <th>MAGNITUDE</th>\n    </tr>\n  </thead>\n  <tbody>\n    <tr>\n      <th>371</th>\n      <td>1994</td>\n      <td>1</td>\n      <td>19</td>\n      <td>2</td>\n      <td>18</td>\n      <td>2.3</td>\n    </tr>\n    <tr>\n      <th>2316</th>\n      <td>1994</td>\n      <td>1</td>\n      <td>30</td>\n      <td>11</td>\n      <td>9</td>\n      <td>1.2</td>\n    </tr>\n    <tr>\n      <th>1538</th>\n      <td>1994</td>\n      <td>1</td>\n      <td>24</td>\n      <td>16</td>\n      <td>25</td>\n      <td>2.5</td>\n    </tr>\n    <tr>\n      <th>978</th>\n      <td>1994</td>\n      <td>1</td>\n      <td>21</td>\n      <td>18</td>\n      <td>14</td>\n      <td>1.7</td>\n    </tr>\n    <tr>\n      <th>298</th>\n      <td>1994</td>\n      <td>1</td>\n      <td>18</td>\n      <td>15</td>\n      <td>56</td>\n      <td>2.5</td>\n    </tr>\n    <tr>\n      <th>1786</th>\n      <td>1994</td>\n      <td>1</td>\n      <td>26</td>\n      <td>4</td>\n      <td>4</td>\n      <td>3.0</td>\n    </tr>\n    <tr>\n      <th>1343</th>\n      <td>1994</td>\n      <td>1</td>\n      <td>23</td>\n      <td>13</td>\n      <td>35</td>\n      <td>1.6</td>\n    </tr>\n    <tr>\n      <th>2247</th>\n      <td>1994</td>\n      <td>1</td>\n      <td>29</td>\n      <td>9</td>\n      <td>37</td>\n      <td>1.4</td>\n    </tr>\n    <tr>\n      <th>473</th>\n      <td>1994</td>\n      <td>1</td>\n      <td>19</td>\n      <td>16</td>\n      <td>3</td>\n      <td>2.2</td>\n    </tr>\n    <tr>\n      <th>2256</th>\n      <td>1994</td>\n      <td>1</td>\n      <td>29</td>\n      <td>11</td>\n      <td>37</td>\n      <td>3.4</td>\n    </tr>\n    <tr>\n      <th>544</th>\n      <td>1994</td>\n      <td>1</td>\n      <td>19</td>\n      <td>22</td>\n      <td>6</td>\n      <td>2.9</td>\n    </tr>\n    <tr>\n      <th>875</th>\n      <td>1994</td>\n      <td>1</td>\n      <td>21</td>\n      <td>8</td>\n      <td>24</td>\n      <td>1.9</td>\n    </tr>\n    <tr>\n      <th>1258</th>\n      <td>1994</td>\n      <td>1</td>\n      <td>23</td>\n      <td>2</td>\n      <td>0</td>\n      <td>1.5</td>\n    </tr>\n    <tr>\n      <th>1359</th>\n      <td>1994</td>\n      <td>1</td>\n      <td>23</td>\n      <td>15</td>\n      <td>58</td>\n      <td>2.1</td>\n    </tr>\n    <tr>\n      <th>799</th>\n      <td>1994</td>\n      <td>1</td>\n      <td>21</td>\n      <td>0</td>\n      <td>1</td>\n      <td>1.5</td>\n    </tr>\n    <tr>\n      <th>969</th>\n      <td>1994</td>\n      <td>1</td>\n      <td>21</td>\n      <td>17</td>\n      <td>35</td>\n      <td>1.8</td>\n    </tr>\n    <tr>\n      <th>1444</th>\n      <td>1994</td>\n      <td>1</td>\n      <td>24</td>\n      <td>3</td>\n      <td>33</td>\n      <td>1.5</td>\n    </tr>\n    <tr>\n      <th>1450</th>\n      <td>1994</td>\n      <td>1</td>\n      <td>24</td>\n      <td>4</td>\n      <td>15</td>\n      <td>4.5</td>\n    </tr>\n    <tr>\n      <th>1297</th>\n      <td>1994</td>\n      <td>1</td>\n      <td>23</td>\n      <td>7</td>\n      <td>0</td>\n      <td>2.0</td>\n    </tr>\n    <tr>\n      <th>1091</th>\n      <td>1994</td>\n      <td>1</td>\n      <td>22</td>\n      <td>6</td>\n      <td>49</td>\n      <td>1.9</td>\n    </tr>\n    <tr>\n      <th>2540</th>\n      <td>1994</td>\n      <td>2</td>\n      <td>2</td>\n      <td>17</td>\n      <td>30</td>\n      <td>1.5</td>\n    </tr>\n    <tr>\n      <th>1660</th>\n      <td>1994</td>\n      <td>1</td>\n      <td>25</td>\n      <td>10</td>\n      <td>32</td>\n      <td>2.4</td>\n    </tr>\n    <tr>\n      <th>544</th>\n      <td>1994</td>\n      <td>1</td>\n      <td>19</td>\n      <td>22</td>\n      <td>6</td>\n      <td>2.9</td>\n    </tr>\n    <tr>\n      <th>1045</th>\n      <td>1994</td>\n      <td>1</td>\n      <td>22</td>\n      <td>1</td>\n      <td>8</td>\n      <td>2.1</td>\n    </tr>\n    <tr>\n      <th>2738</th>\n      <td>1994</td>\n      <td>2</td>\n      <td>4</td>\n      <td>10</td>\n      <td>37</td>\n      <td>1.5</td>\n    </tr>\n    <tr>\n      <th>945</th>\n      <td>1994</td>\n      <td>1</td>\n      <td>21</td>\n      <td>14</td>\n      <td>23</td>\n      <td>1.6</td>\n    </tr>\n    <tr>\n      <th>592</th>\n      <td>1994</td>\n      <td>1</td>\n      <td>20</td>\n      <td>2</td>\n      <td>45</td>\n      <td>2.6</td>\n    </tr>\n    <tr>\n      <th>216</th>\n      <td>1994</td>\n      <td>1</td>\n      <td>18</td>\n      <td>3</td>\n      <td>5</td>\n      <td>2.5</td>\n    </tr>\n    <tr>\n      <th>523</th>\n      <td>1994</td>\n      <td>1</td>\n      <td>19</td>\n      <td>20</td>\n      <td>16</td>\n      <td>1.8</td>\n    </tr>\n    <tr>\n      <th>812</th>\n      <td>1994</td>\n      <td>1</td>\n      <td>21</td>\n      <td>1</td>\n      <td>31</td>\n      <td>2.0</td>\n    </tr>\n  </tbody>\n</table>\n</div>"
     },
     "metadata": {},
     "execution_count": 22
    }
   ],
   "source": [
    "# 1.16\n",
    "df = pd.read_excel('./data/EARTHQUAKE.xls')\n",
    "s_list = []\n",
    "for i in range(0, 30):\n",
    "    s_list.append(random.randint(0, len(df)))\n",
    "df.loc[s_list]"
   ]
  },
  {
   "cell_type": "code",
   "execution_count": null,
   "metadata": {},
   "outputs": [],
   "source": []
  }
 ]
}