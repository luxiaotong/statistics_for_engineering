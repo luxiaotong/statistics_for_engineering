{
 "metadata": {
  "language_info": {
   "codemirror_mode": {
    "name": "ipython",
    "version": 3
   },
   "file_extension": ".py",
   "mimetype": "text/x-python",
   "name": "python",
   "nbconvert_exporter": "python",
   "pygments_lexer": "ipython3",
   "version": "3.7.5-final"
  },
  "orig_nbformat": 2,
  "kernelspec": {
   "name": "python3",
   "display_name": "Python 3",
   "language": "python"
  }
 },
 "nbformat": 4,
 "nbformat_minor": 2,
 "cells": [
  {
   "cell_type": "code",
   "execution_count": 1,
   "metadata": {},
   "outputs": [],
   "source": [
    "import pandas as pd\n",
    "import numpy as np\n",
    "import matplotlib.pyplot as plt\n",
    "\n",
    "plt.rcParams['font.sans-serif'] = ['Arial Unicode MS']\n",
    "plt.rcParams['axes.unicode_minus'] = False # 解决保存图像是负号'-'显示为方块的问题"
   ]
  },
  {
   "cell_type": "code",
   "execution_count": 34,
   "metadata": {},
   "outputs": [
    {
     "output_type": "stream",
     "name": "stdout",
     "text": [
      "81 22 0 0 57 41 15 7\n0.31390134529147984\n"
     ]
    }
   ],
   "source": [
    "df = pd.read_excel(\"./data/MTBE.XLS\")\n",
    "a = df.query('WellClass==\"Private\" & Aquifier==\"Bedrock\" & `MTBE-Detect`==\"Below Limit\"')\n",
    "a\n",
    "b = df.query('WellClass==\"Private\" & Aquifier==\"Bedrock\" & `MTBE-Detect`==\"Detect\"')\n",
    "b\n",
    "c = df.query('WellClass==\"Private\" & Aquifier==\"Unconsoli\" & `MTBE-Detect`==\"Below Limit\"')\n",
    "c\n",
    "d = df.query('WellClass==\"Private\" & Aquifier==\"Unconsoli\" & `MTBE-Detect`==\"Detect\"')\n",
    "d\n",
    "e = df.query('WellClass==\"Public\" & Aquifier==\"Bedrock\" & `MTBE-Detect`==\"Below Limit\"')\n",
    "e\n",
    "f = df.query('WellClass==\"Public\" & Aquifier==\"Bedrock\" & `MTBE-Detect`==\"Detect\"')\n",
    "f\n",
    "g = df.query('WellClass==\"Public\" & Aquifier==\"Unconsoli\" & `MTBE-Detect`==\"Below Limit\"')\n",
    "g\n",
    "h = df.query('WellClass==\"Public\" & Aquifier==\"Unconsoli\" & `MTBE-Detect`==\"Detect\"')\n",
    "h\n",
    "print(len(a), len(b), len(c), len(d), len(e), len(f), len(g), len(h))\n",
    "print((len(b)+len(d)+len(f)+len(h))/len(df))"
   ]
  },
  {
   "cell_type": "code",
   "execution_count": null,
   "metadata": {},
   "outputs": [],
   "source": []
  }
 ]
}